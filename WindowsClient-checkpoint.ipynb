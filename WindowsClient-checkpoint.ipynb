{
 "cells": [
  {
   "cell_type": "code",
   "execution_count": 1,
   "metadata": {},
   "outputs": [],
   "source": [
    "import socket\n",
    "import urllib              # open and read the URL\n",
    "import pickle              # to convert data into byte\n",
    "import numpy as np\n",
    "import cv2"
   ]
  },
  {
   "cell_type": "code",
   "execution_count": 2,
   "metadata": {},
   "outputs": [
    {
     "ename": "ConnectionRefusedError",
     "evalue": "[WinError 10061] No connection could be made because the target machine actively refused it",
     "output_type": "error",
     "traceback": [
      "\u001b[1;31m---------------------------------------------------------------------------\u001b[0m",
      "\u001b[1;31mConnectionRefusedError\u001b[0m                    Traceback (most recent call last)",
      "\u001b[1;32m<ipython-input-2-a97b87c4bed6>\u001b[0m in \u001b[0;36m<module>\u001b[1;34m\u001b[0m\n\u001b[0;32m      5\u001b[0m \u001b[0mip\u001b[0m \u001b[1;33m=\u001b[0m \u001b[1;34m\"192.168.43.201\"\u001b[0m\u001b[1;33m\u001b[0m\u001b[1;33m\u001b[0m\u001b[0m\n\u001b[0;32m      6\u001b[0m \u001b[0mport\u001b[0m \u001b[1;33m=\u001b[0m \u001b[1;36m6565\u001b[0m\u001b[1;33m\u001b[0m\u001b[1;33m\u001b[0m\u001b[0m\n\u001b[1;32m----> 7\u001b[1;33m \u001b[0mclient_socket\u001b[0m\u001b[1;33m.\u001b[0m\u001b[0mconnect\u001b[0m\u001b[1;33m(\u001b[0m \u001b[1;33m(\u001b[0m\u001b[0mip\u001b[0m\u001b[1;33m,\u001b[0m\u001b[0mport\u001b[0m\u001b[1;33m)\u001b[0m \u001b[1;33m)\u001b[0m\u001b[1;33m\u001b[0m\u001b[1;33m\u001b[0m\u001b[0m\n\u001b[0m",
      "\u001b[1;31mConnectionRefusedError\u001b[0m: [WinError 10061] No connection could be made because the target machine actively refused it"
     ]
    }
   ],
   "source": [
    "# creating socket for client\n",
    "\n",
    "URL = 'http://192.168.43.1:8080'\n",
    "\n",
    "client_socket = socket.socket(socket.AF_INET,socket.SOCK_STREAM)\n",
    "\n",
    "ip = \"192.168.43.201\"\n",
    "port = 6565\n",
    "client_socket.connect( (ip,port) )"
   ]
  },
  {
   "cell_type": "code",
   "execution_count": null,
   "metadata": {},
   "outputs": [],
   "source": [
    "while True:\n",
    "    get_data = client_socket.recv(10000000)\n",
    "    print(\"Response Recieved\")\n",
    "    \n",
    "    get_img = urllib.request.urlopen(URL)                              #open the url\n",
    "    array_img = np.array(bytearray(get_img.read()) , dtype=np.uint8)   # convert img into array\n",
    "    img = cv2.imdecode(array_img , -1)                                 # decode img as it is\n",
    "    img = cv2.resize(img , (700,600))\n",
    "    ret , buffer = cv2.imencode('.jpg' , img)                          # store buffer img\n",
    "    bytedata = pickle.dumps(buffer)                                    # convert img into bytes\n",
    "    client_socket.send(bytedata)\n",
    "    try:\n",
    "        data = pickle.loads(get_data)\n",
    "        final_img = cv2.imdecode(data , cv2.IMREAD_COLOR)             # decode received img \n",
    "        if final_img is not None :\n",
    "            cv2.imshow('Client connected' , final_img)\n",
    "            if cv2.waitKey(10) == 13 :\n",
    "                break\n",
    "    except: \n",
    "        print(\"Waiting for the server connection...!\")\n",
    "cv2.destroyAllWindows()"
   ]
  },
  {
   "cell_type": "code",
   "execution_count": null,
   "metadata": {},
   "outputs": [],
   "source": []
  },
  {
   "cell_type": "code",
   "execution_count": null,
   "metadata": {},
   "outputs": [],
   "source": []
  },
  {
   "cell_type": "code",
   "execution_count": null,
   "metadata": {},
   "outputs": [],
   "source": []
  },
  {
   "cell_type": "code",
   "execution_count": null,
   "metadata": {},
   "outputs": [],
   "source": [
    "import socket, cv2, pickle,struct\n",
    "\n",
    "# Creating Socket\n",
    "server_socket = socket.socket(socket.AF_INET,socket.SOCK_STREAM)\n",
    "host_name = socket.gethostname()\n",
    "host_ip = socket.gethostbyname(host_name)\n",
    "port = 3333      # Port assing to the connection\n",
    "socket_address = ('192.168.43.38',port)         \n",
    "\n",
    "#Binding the IP and PORT of the servers\n",
    "server_socket.bind(socket_address)\n",
    "\n",
    "# Socket Listening\n",
    "server_socket.listen(5)\n",
    "print(\"Listening at:---->>>\",socket_address)\n",
    "\n",
    "# Socket Accept\n",
    "while True:\n",
    "    client_socket,addr = server_socket.accept()\n",
    "    if client_socket:\n",
    "        vid = cv2.VideoCapture(0)\n",
    "        while(vid.isOpened()):\n",
    "            img,frame = vid.read() \n",
    "            a = pickle.dumps(frame)  #Serialize the frame in bytes\n",
    "            message = struct.pack(\"Q\",len(a))+a  #pack the message\n",
    "            client_socket.sendall(message) #sending the message to client\n",
    "            \n",
    "            cv2.imshow('Sending Video',frame)  #Showing Video\n",
    "            key = cv2.waitKey(1) & 0xFF  \n",
    "            if key ==ord('q'): #Pressing \"q\" in the cliet side will end the call\n",
    "                client_socket.close()\n",
    "cv2.destroyAllWindows()"
   ]
  },
  {
   "cell_type": "code",
   "execution_count": null,
   "metadata": {},
   "outputs": [],
   "source": []
  }
 ],
 "metadata": {
  "kernelspec": {
   "display_name": "Python 3",
   "language": "python",
   "name": "python3"
  },
  "language_info": {
   "codemirror_mode": {
    "name": "ipython",
    "version": 3
   },
   "file_extension": ".py",
   "mimetype": "text/x-python",
   "name": "python",
   "nbconvert_exporter": "python",
   "pygments_lexer": "ipython3",
   "version": "3.8.3"
  }
 },
 "nbformat": 4,
 "nbformat_minor": 4
}
